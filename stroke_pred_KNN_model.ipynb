{
  "nbformat": 4,
  "nbformat_minor": 0,
  "metadata": {
    "colab": {
      "provenance": [],
      "authorship_tag": "ABX9TyPPB3IwsBag0ONf30NcFtyI",
      "include_colab_link": true
    },
    "kernelspec": {
      "name": "python3",
      "display_name": "Python 3"
    },
    "language_info": {
      "name": "python"
    }
  },
  "cells": [
    {
      "cell_type": "markdown",
      "metadata": {
        "id": "view-in-github",
        "colab_type": "text"
      },
      "source": [
        "<a href=\"https://colab.research.google.com/github/andysontran/13-CHL5230-F23/blob/main/stroke_pred_model.ipynb\" target=\"_parent\"><img src=\"https://colab.research.google.com/assets/colab-badge.svg\" alt=\"Open In Colab\"/></a>"
      ]
    },
    {
      "cell_type": "code",
      "execution_count": null,
      "metadata": {
        "id": "cgviSLxz53cy"
      },
      "outputs": [],
      "source": [
        "# CHL5230H (F23): Datathon 2 - Early Prediction of Heart Failure\n",
        "# Team Members:\n",
        "#   No_13:  Katherine Lu  Amanda Rahmadian  Son Tran\n",
        "\n",
        "# Dataset Used:\n",
        "#   Cardiovascular Event Dataset (dataset.csv)\n",
        "#     Attribute\tDescription:\n",
        "#       id\tUnique identifier\n",
        "#       gender\t“Male”, “Female” or “Other”\n",
        "#       age\tAge of the patient\n",
        "#       hypertension\t0 if the patient doesn’t have hypertension, 1 if they do\n",
        "#       heart_disease\t0 if the patient doesn’t have any heart diseases, 1 if they do\n",
        "#       ever_married\t“No” or “Yes”\n",
        "#       work_type\t“Children”, “Govt_jov”, “Never_worked”, “Private” or “Self-employed”\n",
        "#       Residence_type\t“Rural” or “Urban”\n",
        "#       avg_glucose_level\tAverage glucose level in blood\n",
        "#       bmi\tBody mass index\n",
        "#       smoking_status\t“Formerly smoked”, “Never smoked”, “Smokes” or “Unknown”*\n",
        "#       stroke\t1 if the patient had a stroke, 0 if not"
      ]
    },
    {
      "cell_type": "code",
      "source": [
        "# Mount Google Drive\n",
        "from google.colab import drive\n",
        "drive.mount('/content/drive')\n",
        "\n",
        "# Clone files on Github repository to Drive\n",
        "!git clone https://github.com/andysontran/13-CHL5230-F23.git\n",
        "\n",
        "# Set working directory\n",
        "%cd 13-CHL5230-F23/"
      ],
      "metadata": {
        "colab": {
          "base_uri": "https://localhost:8080/"
        },
        "id": "Z_jAsY1o7Bo7",
        "outputId": "f2a74852-0a37-42ea-caec-0c7586e9a807"
      },
      "execution_count": 1,
      "outputs": [
        {
          "output_type": "stream",
          "name": "stdout",
          "text": [
            "Mounted at /content/drive\n",
            "Cloning into '13-CHL5230-F23'...\n",
            "remote: Enumerating objects: 3, done.\u001b[K\n",
            "remote: Counting objects: 100% (3/3), done.\u001b[K\n",
            "remote: Compressing objects: 100% (2/2), done.\u001b[K\n",
            "remote: Total 3 (delta 0), reused 0 (delta 0), pack-reused 0\u001b[K\n",
            "Receiving objects: 100% (3/3), 66.20 KiB | 1.27 MiB/s, done.\n",
            "/content/13-CHL5230-F23\n"
          ]
        }
      ]
    },
    {
      "cell_type": "code",
      "source": [
        "# Read CSV file into Pandas df\n",
        "import pandas as pd\n",
        "\n",
        "df = pd.read_csv('dataset.csv')\n",
        "df.head()\n",
        "\n",
        "# Dataframe characteristics\n",
        "print(\"Dataframe shape: \", df.shape)\n",
        "print(df.columns)\n",
        "print(\"Dataframe column types: \", df.dtypes)\n",
        "print(df.describe())\n",
        "\n",
        "# Check for missing values in each column\n",
        "print(\"Missing values:\")\n",
        "print(df.isnull().sum())"
      ],
      "metadata": {
        "colab": {
          "base_uri": "https://localhost:8080/"
        },
        "id": "KepHPNiK7nnL",
        "outputId": "21b9e66e-b8b5-4716-d359-bf7354a4b0f0"
      },
      "execution_count": 6,
      "outputs": [
        {
          "output_type": "stream",
          "name": "stdout",
          "text": [
            "Dataframe shape:  (5110, 12)\n",
            "Index(['id', 'gender', 'age', 'hypertension', 'heart_disease', 'ever_married',\n",
            "       'work_type', 'Residence_type', 'avg_glucose_level', 'bmi',\n",
            "       'smoking_status', 'stroke'],\n",
            "      dtype='object')\n",
            "Dataframe column types:  id                     int64\n",
            "gender                object\n",
            "age                  float64\n",
            "hypertension           int64\n",
            "heart_disease          int64\n",
            "ever_married          object\n",
            "work_type             object\n",
            "Residence_type        object\n",
            "avg_glucose_level    float64\n",
            "bmi                  float64\n",
            "smoking_status        object\n",
            "stroke                 int64\n",
            "dtype: object\n",
            "                 id          age  hypertension  heart_disease  \\\n",
            "count   5110.000000  5110.000000   5110.000000    5110.000000   \n",
            "mean   36517.829354    43.226614      0.097456       0.054012   \n",
            "std    21161.721625    22.612647      0.296607       0.226063   \n",
            "min       67.000000     0.080000      0.000000       0.000000   \n",
            "25%    17741.250000    25.000000      0.000000       0.000000   \n",
            "50%    36932.000000    45.000000      0.000000       0.000000   \n",
            "75%    54682.000000    61.000000      0.000000       0.000000   \n",
            "max    72940.000000    82.000000      1.000000       1.000000   \n",
            "\n",
            "       avg_glucose_level          bmi       stroke  \n",
            "count        5110.000000  4909.000000  5110.000000  \n",
            "mean          106.147677    28.893237     0.048728  \n",
            "std            45.283560     7.854067     0.215320  \n",
            "min            55.120000    10.300000     0.000000  \n",
            "25%            77.245000    23.500000     0.000000  \n",
            "50%            91.885000    28.100000     0.000000  \n",
            "75%           114.090000    33.100000     0.000000  \n",
            "max           271.740000    97.600000     1.000000  \n",
            "Missing values:\n",
            "id                     0\n",
            "gender                 0\n",
            "age                    0\n",
            "hypertension           0\n",
            "heart_disease          0\n",
            "ever_married           0\n",
            "work_type              0\n",
            "Residence_type         0\n",
            "avg_glucose_level      0\n",
            "bmi                  201\n",
            "smoking_status         0\n",
            "stroke                 0\n",
            "dtype: int64\n"
          ]
        }
      ]
    }
  ]
}
