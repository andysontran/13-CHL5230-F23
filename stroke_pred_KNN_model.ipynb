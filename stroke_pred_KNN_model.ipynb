{
  "nbformat": 4,
  "nbformat_minor": 0,
  "metadata": {
    "colab": {
      "provenance": [],
      "authorship_tag": "ABX9TyPr0K5zNGsOMUY1ouF6Z3P6",
      "include_colab_link": true
    },
    "kernelspec": {
      "name": "python3",
      "display_name": "Python 3"
    },
    "language_info": {
      "name": "python"
    }
  },
  "cells": [
    {
      "cell_type": "markdown",
      "metadata": {
        "id": "view-in-github",
        "colab_type": "text"
      },
      "source": [
        "<a href=\"https://colab.research.google.com/github/andysontran/13-CHL5230-F23/blob/main/stroke_pred_KNN_model.ipynb\" target=\"_parent\"><img src=\"https://colab.research.google.com/assets/colab-badge.svg\" alt=\"Open In Colab\"/></a>"
      ]
    },
    {
      "cell_type": "code",
      "execution_count": null,
      "metadata": {
        "id": "cgviSLxz53cy"
      },
      "outputs": [],
      "source": [
        "# CHL5230H (F23): Datathon 2 - Early Prediction of Heart Failure\n",
        "# Team Members:\n",
        "#   No_13:  Katherine Lu  Amanda Rahmadian  Son Tran\n",
        "\n",
        "# Dataset Used:\n",
        "#   Cardiovascular Event Dataset (dataset.csv)\n",
        "#     Attribute\tDescription:\n",
        "#       id\tUnique identifier\n",
        "#       gender\t“Male”, “Female” or “Other”\n",
        "#       age\tAge of the patient\n",
        "#       hypertension\t0 if the patient doesn’t have hypertension, 1 if they do\n",
        "#       heart_disease\t0 if the patient doesn’t have any heart diseases, 1 if they do\n",
        "#       ever_married\t“No” or “Yes”\n",
        "#       work_type\t“Children”, “Govt_jov”, “Never_worked”, “Private” or “Self-employed”\n",
        "#       Residence_type\t“Rural” or “Urban”\n",
        "#       avg_glucose_level\tAverage glucose level in blood\n",
        "#       bmi\tBody mass index\n",
        "#       smoking_status\t“Formerly smoked”, “Never smoked”, “Smokes” or “Unknown”*\n",
        "#       stroke\t1 if the patient had a stroke, 0 if not"
      ]
    },
    {
      "cell_type": "code",
      "source": [
        "# Mount Google Drive\n",
        "from google.colab import drive\n",
        "drive.mount('/content/drive')\n",
        "\n",
        "# Clone files on Github repository to Drive\n",
        "!git clone https://github.com/andysontran/13-CHL5230-F23.git\n",
        "\n",
        "# Set working directory\n",
        "%cd 13-CHL5230-F23/"
      ],
      "metadata": {
        "colab": {
          "base_uri": "https://localhost:8080/"
        },
        "id": "Z_jAsY1o7Bo7",
        "outputId": "fdb87f26-ad19-4f8f-f32d-adbcf4b182ae"
      },
      "execution_count": 1,
      "outputs": [
        {
          "output_type": "stream",
          "name": "stdout",
          "text": [
            "Mounted at /content/drive\n",
            "Cloning into '13-CHL5230-F23'...\n",
            "remote: Enumerating objects: 23, done.\u001b[K\n",
            "remote: Counting objects: 100% (23/23), done.\u001b[K\n",
            "remote: Compressing objects: 100% (22/22), done.\u001b[K\n",
            "remote: Total 23 (delta 9), reused 0 (delta 0), pack-reused 0\u001b[K\n",
            "Receiving objects: 100% (23/23), 639.12 KiB | 2.22 MiB/s, done.\n",
            "Resolving deltas: 100% (9/9), done.\n",
            "/content/13-CHL5230-F23\n"
          ]
        }
      ]
    },
    {
      "cell_type": "code",
      "source": [
        "# Import necessary libraries\n",
        "import pandas as pd\n",
        "import numpy as np\n",
        "import matplotlib.pyplot as plt\n",
        "from sklearn.model_selection import train_test_split\n",
        "from sklearn.linear_model import LogisticRegression\n",
        "from sklearn.metrics import confusion_matrix, classification_report, roc_auc_score, roc_curve\n",
        "from sklearn.preprocessing import StandardScaler\n",
        "import seaborn as sns\n",
        "import warnings\n",
        "\n",
        "# Load the Cardiovascular Event Dataset into a Pandas df\n",
        "import pandas as pd\n",
        "\n",
        "data = pd.read_csv('dataset.csv')\n",
        "data"
      ],
      "metadata": {
        "id": "KepHPNiK7nnL"
      },
      "execution_count": null,
      "outputs": []
    },
    {
      "cell_type": "markdown",
      "source": [
        "**Data Pre-processing and Exploratory Data Analysis**"
      ],
      "metadata": {
        "id": "dkjhVH_PJhfA"
      }
    },
    {
      "cell_type": "code",
      "source": [
        "# Remove the id row\n",
        "data.drop('id', axis=1, inplace=True)\n",
        "data"
      ],
      "metadata": {
        "id": "IwQZ3rzFJlf0"
      },
      "execution_count": null,
      "outputs": []
    },
    {
      "cell_type": "code",
      "source": [
        "# Exploration of the dataset, dropping the 'count' row for better visualization\n",
        "description = data.describe()\n",
        "description\n",
        "description = description.drop('count')\n",
        "\n",
        "# Plot some graphs to visually show data distribution\n",
        "\n",
        "# Box and whisker plots (only looking at continuous variables)\n",
        "description.plot(kind='box', subplots=True, layout=(2, 7), figsize=(10, 5),\n",
        "                 color='#7569c9')\n",
        "plt.tight_layout()\n",
        "plt.show()\n",
        "\n",
        "# Bar graphs (for categorical variables)\n",
        "data['gender'].value_counts().plot(kind='bar')\n",
        "plt.xlabel('Gender')\n",
        "plt.ylabel('Frequency')\n",
        "plt.show()\n",
        "data['hypertension'].value_counts().plot(kind='bar')\n",
        "plt.xlabel('Hypertension')\n",
        "plt.ylabel('Frequency')\n",
        "plt.show()\n",
        "data['heart_disease'].value_counts().plot(kind='bar')\n",
        "plt.xlabel('Heart Disease')\n",
        "plt.ylabel('Frequency')\n",
        "plt.show()\n",
        "data['ever_married'].value_counts().plot(kind='bar')\n",
        "plt.xlabel('Ever Married')\n",
        "plt.ylabel('Frequency')\n",
        "plt.show()\n",
        "data['work_type'].value_counts().plot(kind='bar')\n",
        "plt.xlabel('Work Type')\n",
        "plt.ylabel('Frequency')\n",
        "plt.show()\n",
        "data['Residence_type'].value_counts().plot(kind='bar')\n",
        "plt.xlabel('Residence Type')\n",
        "plt.ylabel('Frequency')\n",
        "plt.show()\n",
        "data['smoking_status'].value_counts().plot(kind='bar')\n",
        "plt.xlabel('Smoking Status')\n",
        "plt.ylabel('Frequency')\n",
        "plt.show()"
      ],
      "metadata": {
        "id": "Gd9eg5QOJxoS"
      },
      "execution_count": null,
      "outputs": []
    },
    {
      "cell_type": "code",
      "source": [
        "# Box plot of 'bmi'\n",
        "sns.boxplot(data['bmi'])"
      ],
      "metadata": {
        "id": "5KLs3QhM-UtK"
      },
      "execution_count": null,
      "outputs": []
    },
    {
      "cell_type": "code",
      "source": [
        "# Box plot of 'avg_glucose_level'\n",
        "sns.boxplot(data['avg_glucose_level'])"
      ],
      "metadata": {
        "id": "2KEGR3Gk-zAM"
      },
      "execution_count": null,
      "outputs": []
    },
    {
      "cell_type": "code",
      "source": [
        "# Since smoking_status has more than 1500 Unknown values, which is about 30% of\n",
        "# the sample, we decided to exclude this variable from our analysis\n",
        "# data.drop ('smoking_status', axis=1, inplace=True)"
      ],
      "metadata": {
        "id": "Hj5U5bhfKA-4"
      },
      "execution_count": null,
      "outputs": []
    },
    {
      "cell_type": "code",
      "source": [
        "# Since gender=Other only has 1 observation in the dataset, we decided to drop\n",
        "# this row from our analysis\n",
        "data.drop(3116,axis=0,inplace=True)"
      ],
      "metadata": {
        "id": "vlKzYSoLKRl9"
      },
      "execution_count": 33,
      "outputs": []
    },
    {
      "cell_type": "code",
      "source": [
        "# Remove outliers in BMI, specifically the observations with BMI=97.6, 92, and 78\n",
        "# data.drop(2128,axis=0,inplace=True)\n",
        "# data.drop(4209,axis=0,inplace=True)\n",
        "# data.drop(928,axis=0,inplace=True)"
      ],
      "metadata": {
        "id": "iSS2KDoncDK-"
      },
      "execution_count": null,
      "outputs": []
    },
    {
      "cell_type": "code",
      "source": [
        "# Code the binary variables gender, ever_married, Residence_type into numerical values;\n",
        "data['gender'] = data['gender'].map({'Male': 0, 'Female': 1})\n",
        "data['ever_married'] = data['ever_married'].map({'No': 0, 'Yes': 1})\n",
        "data['Residence_type'] = data['Residence_type'].map({'Rural': 0, 'Urban': 1})"
      ],
      "metadata": {
        "id": "i9Frt7kLKUjA"
      },
      "execution_count": 34,
      "outputs": []
    },
    {
      "cell_type": "code",
      "source": [
        "# Since children in the dataset skew age and BMI (and as BMI is not as accurate for youth), we decided to restrict our models to adults only, so remove work_type=children\n",
        "data = data[data.work_type != 'children']\n",
        "\n",
        "# and remove anyone under age 18\n",
        "data = data[data.age >= 18]"
      ],
      "metadata": {
        "id": "HZyDqqiNRX6e"
      },
      "execution_count": 35,
      "outputs": []
    },
    {
      "cell_type": "code",
      "source": [
        "# Create one-hot coding for work_type\n",
        "data['work_type_Private'] = np.where(data['work_type']=='Private', 1, 0)\n",
        "data['work_type_Selfemployed'] = np.where(data['work_type']=='Self-employed', 1, 0)\n",
        "data['work_type_Govtjob'] = np.where(data['work_type']=='Govt_job', 1, 0)\n",
        "data['work_type_Never'] = np.where(data['work_type']=='Never_worked', 1, 0)\n",
        "data.drop ('work_type', axis=1, inplace=True)"
      ],
      "metadata": {
        "id": "dh75wxYHKekv"
      },
      "execution_count": 36,
      "outputs": []
    },
    {
      "cell_type": "code",
      "source": [
        "# Create one-hot coding for smoking\n",
        "data['smoking_status_Former'] = np.where(data['smoking_status']=='formerly smoked', 1, 0)\n",
        "data['smoking_status_Never'] = np.where(data['smoking_status']=='never smoked', 1, 0)\n",
        "data['smoking_status_Smokes'] = np.where(data['smoking_status']=='smokes', 1, 0)\n",
        "data['smoking_status_Unknown'] = np.where(data['smoking_status']=='Unknown', 1, 0)\n",
        "data.drop ('smoking_status', axis=1, inplace=True)"
      ],
      "metadata": {
        "id": "S34IK0RyduTy"
      },
      "execution_count": 37,
      "outputs": []
    },
    {
      "cell_type": "code",
      "source": [
        "# Check for missing values in each column\n",
        "print(data.isnull().sum())"
      ],
      "metadata": {
        "id": "WLljAI3HKhN7"
      },
      "execution_count": null,
      "outputs": []
    },
    {
      "cell_type": "code",
      "source": [
        "# Import necessary packages\n",
        "from numpy import mean\n",
        "from numpy import std\n",
        "\n",
        "# Calculate summary statistics\n",
        "data_bmi_mean, data_bmi_std = mean(data['bmi']), std(data['bmi'])\n",
        "# Identify outliers\n",
        "cut_off = data_bmi_std * 4\n",
        "lower, upper = data_bmi_mean - cut_off, data_bmi_mean + cut_off\n",
        "\n",
        "outliers = [x for x in data['bmi'] if x < lower or x > upper]\n",
        "print('Identified outliers: %d' % len(outliers))"
      ],
      "metadata": {
        "id": "YZVFn9kJSwBe"
      },
      "execution_count": null,
      "outputs": []
    },
    {
      "cell_type": "code",
      "source": [
        "# Import necessary packages\n",
        "from numpy import percentile\n",
        "\n",
        "# Calculate IQR\n",
        "q25, q75 = percentile(data['bmi'], 25), percentile(data['bmi'], 75)\n",
        "iqr = q75 - q25\n",
        "print('Percentiles: 25th=%.3f, 75th=%.3f, IQR=%.3f' % (q25, q75, iqr))\n",
        "\n",
        "# Calculate the outlier cutoff\n",
        "cut_off = iqr * 1.5\n",
        "lower, upper = q25 - cut_off, q75 + cut_off\n",
        "# Identify outliers\n",
        "outliers = [x for x in data['bmi'] if x < lower or x > upper]\n",
        "print('Identified outliers: %d' % len(outliers))"
      ],
      "metadata": {
        "id": "JAeSlhicT9gB"
      },
      "execution_count": null,
      "outputs": []
    },
    {
      "cell_type": "code",
      "source": [
        "# For BMI, replace zeros with nan to handle missing values\n",
        "data[['bmi']] = data[['bmi']].replace(0, np.nan)\n",
        "\n",
        "# Fill missing values with median\n",
        "data.fillna(data.median(), inplace=True)\n",
        "\n",
        "# Check to see if there are no more missing values\n",
        "print(data.isnull().sum())"
      ],
      "metadata": {
        "id": "0TDdpMduKhsj"
      },
      "execution_count": null,
      "outputs": []
    },
    {
      "cell_type": "code",
      "source": [
        "# Explore dataset again, after pre-processing of data\n",
        "description = data.describe()\n",
        "description"
      ],
      "metadata": {
        "id": "lU_Am6ooKked"
      },
      "execution_count": null,
      "outputs": []
    },
    {
      "cell_type": "code",
      "source": [
        "# Correlation matrix to quantify relationships (this might not be super helpful\n",
        "# for us, since we have so many categorical variables. i think we should just\n",
        "# fix for collinearity using L1 or L2\n",
        "corr_matrix = data.corr()\n",
        "sns.heatmap(corr_matrix, annot=True, fmt=\".1f\")\n",
        "# For the continuous variables, they don't seem to be heavily correlated with\n",
        "# each other"
      ],
      "metadata": {
        "id": "9gNbadpyKmP_"
      },
      "execution_count": null,
      "outputs": []
    },
    {
      "cell_type": "code",
      "source": [
        "data.head()"
      ],
      "metadata": {
        "id": "wLjh1DKzKzxl",
        "colab": {
          "base_uri": "https://localhost:8080/",
          "height": 226
        },
        "outputId": "66b6ee3a-a3d2-4e89-82dc-973c04c3b4d4"
      },
      "execution_count": 44,
      "outputs": [
        {
          "output_type": "execute_result",
          "data": {
            "text/plain": [
              "   gender   age  hypertension  heart_disease  ever_married  Residence_type  \\\n",
              "0       0  67.0             0              1             1               1   \n",
              "1       1  61.0             0              0             1               0   \n",
              "2       0  80.0             0              1             1               0   \n",
              "3       1  49.0             0              0             1               1   \n",
              "4       1  79.0             1              0             1               0   \n",
              "\n",
              "   avg_glucose_level   bmi  stroke  work_type_Private  work_type_Selfemployed  \\\n",
              "0             228.69  36.6       1                  1                       0   \n",
              "1             202.21  29.2       1                  0                       1   \n",
              "2             105.92  32.5       1                  1                       0   \n",
              "3             171.23  34.4       1                  1                       0   \n",
              "4             174.12  24.0       1                  0                       1   \n",
              "\n",
              "   work_type_Govtjob  work_type_Never  smoking_status_Former  \\\n",
              "0                  0                0                      1   \n",
              "1                  0                0                      0   \n",
              "2                  0                0                      0   \n",
              "3                  0                0                      0   \n",
              "4                  0                0                      0   \n",
              "\n",
              "   smoking_status_Never  smoking_status_Smokes  smoking_status_Unknown  \n",
              "0                     0                      0                       0  \n",
              "1                     1                      0                       0  \n",
              "2                     1                      0                       0  \n",
              "3                     0                      1                       0  \n",
              "4                     1                      0                       0  "
            ],
            "text/html": [
              "\n",
              "  <div id=\"df-f867dfc2-fa85-4cc0-bed0-0816ba44e6ad\" class=\"colab-df-container\">\n",
              "    <div>\n",
              "<style scoped>\n",
              "    .dataframe tbody tr th:only-of-type {\n",
              "        vertical-align: middle;\n",
              "    }\n",
              "\n",
              "    .dataframe tbody tr th {\n",
              "        vertical-align: top;\n",
              "    }\n",
              "\n",
              "    .dataframe thead th {\n",
              "        text-align: right;\n",
              "    }\n",
              "</style>\n",
              "<table border=\"1\" class=\"dataframe\">\n",
              "  <thead>\n",
              "    <tr style=\"text-align: right;\">\n",
              "      <th></th>\n",
              "      <th>gender</th>\n",
              "      <th>age</th>\n",
              "      <th>hypertension</th>\n",
              "      <th>heart_disease</th>\n",
              "      <th>ever_married</th>\n",
              "      <th>Residence_type</th>\n",
              "      <th>avg_glucose_level</th>\n",
              "      <th>bmi</th>\n",
              "      <th>stroke</th>\n",
              "      <th>work_type_Private</th>\n",
              "      <th>work_type_Selfemployed</th>\n",
              "      <th>work_type_Govtjob</th>\n",
              "      <th>work_type_Never</th>\n",
              "      <th>smoking_status_Former</th>\n",
              "      <th>smoking_status_Never</th>\n",
              "      <th>smoking_status_Smokes</th>\n",
              "      <th>smoking_status_Unknown</th>\n",
              "    </tr>\n",
              "  </thead>\n",
              "  <tbody>\n",
              "    <tr>\n",
              "      <th>0</th>\n",
              "      <td>0</td>\n",
              "      <td>67.0</td>\n",
              "      <td>0</td>\n",
              "      <td>1</td>\n",
              "      <td>1</td>\n",
              "      <td>1</td>\n",
              "      <td>228.69</td>\n",
              "      <td>36.6</td>\n",
              "      <td>1</td>\n",
              "      <td>1</td>\n",
              "      <td>0</td>\n",
              "      <td>0</td>\n",
              "      <td>0</td>\n",
              "      <td>1</td>\n",
              "      <td>0</td>\n",
              "      <td>0</td>\n",
              "      <td>0</td>\n",
              "    </tr>\n",
              "    <tr>\n",
              "      <th>1</th>\n",
              "      <td>1</td>\n",
              "      <td>61.0</td>\n",
              "      <td>0</td>\n",
              "      <td>0</td>\n",
              "      <td>1</td>\n",
              "      <td>0</td>\n",
              "      <td>202.21</td>\n",
              "      <td>29.2</td>\n",
              "      <td>1</td>\n",
              "      <td>0</td>\n",
              "      <td>1</td>\n",
              "      <td>0</td>\n",
              "      <td>0</td>\n",
              "      <td>0</td>\n",
              "      <td>1</td>\n",
              "      <td>0</td>\n",
              "      <td>0</td>\n",
              "    </tr>\n",
              "    <tr>\n",
              "      <th>2</th>\n",
              "      <td>0</td>\n",
              "      <td>80.0</td>\n",
              "      <td>0</td>\n",
              "      <td>1</td>\n",
              "      <td>1</td>\n",
              "      <td>0</td>\n",
              "      <td>105.92</td>\n",
              "      <td>32.5</td>\n",
              "      <td>1</td>\n",
              "      <td>1</td>\n",
              "      <td>0</td>\n",
              "      <td>0</td>\n",
              "      <td>0</td>\n",
              "      <td>0</td>\n",
              "      <td>1</td>\n",
              "      <td>0</td>\n",
              "      <td>0</td>\n",
              "    </tr>\n",
              "    <tr>\n",
              "      <th>3</th>\n",
              "      <td>1</td>\n",
              "      <td>49.0</td>\n",
              "      <td>0</td>\n",
              "      <td>0</td>\n",
              "      <td>1</td>\n",
              "      <td>1</td>\n",
              "      <td>171.23</td>\n",
              "      <td>34.4</td>\n",
              "      <td>1</td>\n",
              "      <td>1</td>\n",
              "      <td>0</td>\n",
              "      <td>0</td>\n",
              "      <td>0</td>\n",
              "      <td>0</td>\n",
              "      <td>0</td>\n",
              "      <td>1</td>\n",
              "      <td>0</td>\n",
              "    </tr>\n",
              "    <tr>\n",
              "      <th>4</th>\n",
              "      <td>1</td>\n",
              "      <td>79.0</td>\n",
              "      <td>1</td>\n",
              "      <td>0</td>\n",
              "      <td>1</td>\n",
              "      <td>0</td>\n",
              "      <td>174.12</td>\n",
              "      <td>24.0</td>\n",
              "      <td>1</td>\n",
              "      <td>0</td>\n",
              "      <td>1</td>\n",
              "      <td>0</td>\n",
              "      <td>0</td>\n",
              "      <td>0</td>\n",
              "      <td>1</td>\n",
              "      <td>0</td>\n",
              "      <td>0</td>\n",
              "    </tr>\n",
              "  </tbody>\n",
              "</table>\n",
              "</div>\n",
              "    <div class=\"colab-df-buttons\">\n",
              "\n",
              "  <div class=\"colab-df-container\">\n",
              "    <button class=\"colab-df-convert\" onclick=\"convertToInteractive('df-f867dfc2-fa85-4cc0-bed0-0816ba44e6ad')\"\n",
              "            title=\"Convert this dataframe to an interactive table.\"\n",
              "            style=\"display:none;\">\n",
              "\n",
              "  <svg xmlns=\"http://www.w3.org/2000/svg\" height=\"24px\" viewBox=\"0 -960 960 960\">\n",
              "    <path d=\"M120-120v-720h720v720H120Zm60-500h600v-160H180v160Zm220 220h160v-160H400v160Zm0 220h160v-160H400v160ZM180-400h160v-160H180v160Zm440 0h160v-160H620v160ZM180-180h160v-160H180v160Zm440 0h160v-160H620v160Z\"/>\n",
              "  </svg>\n",
              "    </button>\n",
              "\n",
              "  <style>\n",
              "    .colab-df-container {\n",
              "      display:flex;\n",
              "      gap: 12px;\n",
              "    }\n",
              "\n",
              "    .colab-df-convert {\n",
              "      background-color: #E8F0FE;\n",
              "      border: none;\n",
              "      border-radius: 50%;\n",
              "      cursor: pointer;\n",
              "      display: none;\n",
              "      fill: #1967D2;\n",
              "      height: 32px;\n",
              "      padding: 0 0 0 0;\n",
              "      width: 32px;\n",
              "    }\n",
              "\n",
              "    .colab-df-convert:hover {\n",
              "      background-color: #E2EBFA;\n",
              "      box-shadow: 0px 1px 2px rgba(60, 64, 67, 0.3), 0px 1px 3px 1px rgba(60, 64, 67, 0.15);\n",
              "      fill: #174EA6;\n",
              "    }\n",
              "\n",
              "    .colab-df-buttons div {\n",
              "      margin-bottom: 4px;\n",
              "    }\n",
              "\n",
              "    [theme=dark] .colab-df-convert {\n",
              "      background-color: #3B4455;\n",
              "      fill: #D2E3FC;\n",
              "    }\n",
              "\n",
              "    [theme=dark] .colab-df-convert:hover {\n",
              "      background-color: #434B5C;\n",
              "      box-shadow: 0px 1px 3px 1px rgba(0, 0, 0, 0.15);\n",
              "      filter: drop-shadow(0px 1px 2px rgba(0, 0, 0, 0.3));\n",
              "      fill: #FFFFFF;\n",
              "    }\n",
              "  </style>\n",
              "\n",
              "    <script>\n",
              "      const buttonEl =\n",
              "        document.querySelector('#df-f867dfc2-fa85-4cc0-bed0-0816ba44e6ad button.colab-df-convert');\n",
              "      buttonEl.style.display =\n",
              "        google.colab.kernel.accessAllowed ? 'block' : 'none';\n",
              "\n",
              "      async function convertToInteractive(key) {\n",
              "        const element = document.querySelector('#df-f867dfc2-fa85-4cc0-bed0-0816ba44e6ad');\n",
              "        const dataTable =\n",
              "          await google.colab.kernel.invokeFunction('convertToInteractive',\n",
              "                                                    [key], {});\n",
              "        if (!dataTable) return;\n",
              "\n",
              "        const docLinkHtml = 'Like what you see? Visit the ' +\n",
              "          '<a target=\"_blank\" href=https://colab.research.google.com/notebooks/data_table.ipynb>data table notebook</a>'\n",
              "          + ' to learn more about interactive tables.';\n",
              "        element.innerHTML = '';\n",
              "        dataTable['output_type'] = 'display_data';\n",
              "        await google.colab.output.renderOutput(dataTable, element);\n",
              "        const docLink = document.createElement('div');\n",
              "        docLink.innerHTML = docLinkHtml;\n",
              "        element.appendChild(docLink);\n",
              "      }\n",
              "    </script>\n",
              "  </div>\n",
              "\n",
              "\n",
              "<div id=\"df-882f9aa7-0055-4954-ada7-62179c8de2b7\">\n",
              "  <button class=\"colab-df-quickchart\" onclick=\"quickchart('df-882f9aa7-0055-4954-ada7-62179c8de2b7')\"\n",
              "            title=\"Suggest charts.\"\n",
              "            style=\"display:none;\">\n",
              "\n",
              "<svg xmlns=\"http://www.w3.org/2000/svg\" height=\"24px\"viewBox=\"0 0 24 24\"\n",
              "     width=\"24px\">\n",
              "    <g>\n",
              "        <path d=\"M19 3H5c-1.1 0-2 .9-2 2v14c0 1.1.9 2 2 2h14c1.1 0 2-.9 2-2V5c0-1.1-.9-2-2-2zM9 17H7v-7h2v7zm4 0h-2V7h2v10zm4 0h-2v-4h2v4z\"/>\n",
              "    </g>\n",
              "</svg>\n",
              "  </button>\n",
              "\n",
              "<style>\n",
              "  .colab-df-quickchart {\n",
              "      --bg-color: #E8F0FE;\n",
              "      --fill-color: #1967D2;\n",
              "      --hover-bg-color: #E2EBFA;\n",
              "      --hover-fill-color: #174EA6;\n",
              "      --disabled-fill-color: #AAA;\n",
              "      --disabled-bg-color: #DDD;\n",
              "  }\n",
              "\n",
              "  [theme=dark] .colab-df-quickchart {\n",
              "      --bg-color: #3B4455;\n",
              "      --fill-color: #D2E3FC;\n",
              "      --hover-bg-color: #434B5C;\n",
              "      --hover-fill-color: #FFFFFF;\n",
              "      --disabled-bg-color: #3B4455;\n",
              "      --disabled-fill-color: #666;\n",
              "  }\n",
              "\n",
              "  .colab-df-quickchart {\n",
              "    background-color: var(--bg-color);\n",
              "    border: none;\n",
              "    border-radius: 50%;\n",
              "    cursor: pointer;\n",
              "    display: none;\n",
              "    fill: var(--fill-color);\n",
              "    height: 32px;\n",
              "    padding: 0;\n",
              "    width: 32px;\n",
              "  }\n",
              "\n",
              "  .colab-df-quickchart:hover {\n",
              "    background-color: var(--hover-bg-color);\n",
              "    box-shadow: 0 1px 2px rgba(60, 64, 67, 0.3), 0 1px 3px 1px rgba(60, 64, 67, 0.15);\n",
              "    fill: var(--button-hover-fill-color);\n",
              "  }\n",
              "\n",
              "  .colab-df-quickchart-complete:disabled,\n",
              "  .colab-df-quickchart-complete:disabled:hover {\n",
              "    background-color: var(--disabled-bg-color);\n",
              "    fill: var(--disabled-fill-color);\n",
              "    box-shadow: none;\n",
              "  }\n",
              "\n",
              "  .colab-df-spinner {\n",
              "    border: 2px solid var(--fill-color);\n",
              "    border-color: transparent;\n",
              "    border-bottom-color: var(--fill-color);\n",
              "    animation:\n",
              "      spin 1s steps(1) infinite;\n",
              "  }\n",
              "\n",
              "  @keyframes spin {\n",
              "    0% {\n",
              "      border-color: transparent;\n",
              "      border-bottom-color: var(--fill-color);\n",
              "      border-left-color: var(--fill-color);\n",
              "    }\n",
              "    20% {\n",
              "      border-color: transparent;\n",
              "      border-left-color: var(--fill-color);\n",
              "      border-top-color: var(--fill-color);\n",
              "    }\n",
              "    30% {\n",
              "      border-color: transparent;\n",
              "      border-left-color: var(--fill-color);\n",
              "      border-top-color: var(--fill-color);\n",
              "      border-right-color: var(--fill-color);\n",
              "    }\n",
              "    40% {\n",
              "      border-color: transparent;\n",
              "      border-right-color: var(--fill-color);\n",
              "      border-top-color: var(--fill-color);\n",
              "    }\n",
              "    60% {\n",
              "      border-color: transparent;\n",
              "      border-right-color: var(--fill-color);\n",
              "    }\n",
              "    80% {\n",
              "      border-color: transparent;\n",
              "      border-right-color: var(--fill-color);\n",
              "      border-bottom-color: var(--fill-color);\n",
              "    }\n",
              "    90% {\n",
              "      border-color: transparent;\n",
              "      border-bottom-color: var(--fill-color);\n",
              "    }\n",
              "  }\n",
              "</style>\n",
              "\n",
              "  <script>\n",
              "    async function quickchart(key) {\n",
              "      const quickchartButtonEl =\n",
              "        document.querySelector('#' + key + ' button');\n",
              "      quickchartButtonEl.disabled = true;  // To prevent multiple clicks.\n",
              "      quickchartButtonEl.classList.add('colab-df-spinner');\n",
              "      try {\n",
              "        const charts = await google.colab.kernel.invokeFunction(\n",
              "            'suggestCharts', [key], {});\n",
              "      } catch (error) {\n",
              "        console.error('Error during call to suggestCharts:', error);\n",
              "      }\n",
              "      quickchartButtonEl.classList.remove('colab-df-spinner');\n",
              "      quickchartButtonEl.classList.add('colab-df-quickchart-complete');\n",
              "    }\n",
              "    (() => {\n",
              "      let quickchartButtonEl =\n",
              "        document.querySelector('#df-882f9aa7-0055-4954-ada7-62179c8de2b7 button');\n",
              "      quickchartButtonEl.style.display =\n",
              "        google.colab.kernel.accessAllowed ? 'block' : 'none';\n",
              "    })();\n",
              "  </script>\n",
              "</div>\n",
              "    </div>\n",
              "  </div>\n"
            ]
          },
          "metadata": {},
          "execution_count": 44
        }
      ]
    },
    {
      "cell_type": "code",
      "source": [
        "print(data.head())"
      ],
      "metadata": {
        "id": "_VVwyuyCKMr6"
      },
      "execution_count": null,
      "outputs": []
    },
    {
      "cell_type": "code",
      "source": [
        "count = data['stroke'].value_counts()[1]\n",
        "print(f\"The number of strokes is: {count}\")"
      ],
      "metadata": {
        "id": "HeTwrJt5W5dC"
      },
      "execution_count": null,
      "outputs": []
    },
    {
      "cell_type": "code",
      "source": [
        "count = data['smoking_status_Former'].value_counts()[1]\n",
        "print(f\"The number of former smokers is: {count}\")"
      ],
      "metadata": {
        "id": "3gEc9h3Beiw8"
      },
      "execution_count": null,
      "outputs": []
    },
    {
      "cell_type": "markdown",
      "source": [
        "**Data Balancing by Upsampling**"
      ],
      "metadata": {
        "id": "tBYjVa_LItzL"
      }
    },
    {
      "cell_type": "code",
      "source": [
        "data_0 = data[data['stroke'] == 0]\n",
        "data_1 = data[data['stroke'] == 1]\n",
        "\n",
        "data['stroke'].value_counts()"
      ],
      "metadata": {
        "colab": {
          "base_uri": "https://localhost:8080/"
        },
        "id": "hiKnrT4SItD2",
        "outputId": "b67e2f71-9e26-4b9f-b6db-f7f096ff26a7"
      },
      "execution_count": 70,
      "outputs": [
        {
          "output_type": "execute_result",
          "data": {
            "text/plain": [
              "0    4006\n",
              "1     247\n",
              "Name: stroke, dtype: int64"
            ]
          },
          "metadata": {},
          "execution_count": 70
        }
      ]
    },
    {
      "cell_type": "code",
      "source": [
        "# Import necessary library\n",
        "from sklearn.utils import resample\n",
        "\n",
        "data_1 = resample(data_1, replace = True, n_samples = data_0.shape[0],\n",
        "                  random_state = 123)"
      ],
      "metadata": {
        "id": "TZ-eJFybJFyg"
      },
      "execution_count": 72,
      "outputs": []
    },
    {
      "cell_type": "code",
      "source": [
        "print(data_1.shape)"
      ],
      "metadata": {
        "colab": {
          "base_uri": "https://localhost:8080/"
        },
        "id": "rWtl_cE3MhZ2",
        "outputId": "8b6cd9b5-7ba0-4c89-c828-3108cca50500"
      },
      "execution_count": 73,
      "outputs": [
        {
          "output_type": "stream",
          "name": "stdout",
          "text": [
            "(4006, 17)\n"
          ]
        }
      ]
    },
    {
      "cell_type": "code",
      "source": [
        "# Concatenate upsampled data\n",
        "data_up = np.concatenate((data_0, data_1))\n",
        "\n",
        "# Create the balanced df\n",
        "data_up = pd.DataFrame(data_up)\n",
        "data_up.columns = list(data.columns)"
      ],
      "metadata": {
        "id": "UAWGLq4xJUfT"
      },
      "execution_count": 74,
      "outputs": []
    },
    {
      "cell_type": "code",
      "source": [
        "data_up['stroke'].value_counts()"
      ],
      "metadata": {
        "id": "DcDz88UCJ_xb"
      },
      "execution_count": null,
      "outputs": []
    },
    {
      "cell_type": "code",
      "source": [],
      "metadata": {
        "id": "l_dkhfI-NFTd"
      },
      "execution_count": null,
      "outputs": []
    },
    {
      "cell_type": "markdown",
      "source": [
        "**Implement K-NN Model with Scikit-Learn**"
      ],
      "metadata": {
        "id": "ACJUxs0NLtYb"
      }
    },
    {
      "cell_type": "code",
      "source": [
        "# Import necessary libraries\n",
        "from sklearn.model_selection import train_test_split\n",
        "from sklearn.preprocessing import StandardScaler\n",
        "from sklearn.neighbors import KNeighborsClassifier\n",
        "from sklearn.metrics import accuracy_score\n",
        "import matplotlib.pyplot as plt\n",
        "import seaborn as sns\n",
        "\n",
        "# Split data into features and label for feature importance\n",
        "##  Features: gender\tage\thypertension\theart_disease\tever_married\tResidence_type\n",
        "##            avg_glucose_level\tbmi\twork_type_Private\twork_type_Selfemployed\n",
        "##            work_type_Govtjob\twork_type_Never smoking_status_Former\n",
        "##            smoking_status_Never  smoking_status_Smokes smoking_status_Unknown\n",
        "##  Label:    stroke\n",
        "\n",
        "## CONSTANTS\n",
        "X = data_up[['gender','age','hypertension','heart_disease','ever_married',\n",
        "            'Residence_type','avg_glucose_level','bmi','work_type_Private',\n",
        "            'work_type_Selfemployed','work_type_Govtjob','work_type_Never',\n",
        "            'smoking_status_Former','smoking_status_Never','smoking_status_Smokes',\n",
        "            'smoking_status_Unknown']]\n",
        "y = data_up['stroke']\n",
        "# Test size used\n",
        "size = 0.2\n",
        "##\n",
        "\n",
        "# Split data into training and testing sets\n",
        "X_train, X_test, y_train, y_test = train_test_split(X, y, test_size = size,\n",
        "                                                    random_state = 42)\n",
        "\n",
        "# Scale features\n",
        "scaler = StandardScaler()\n",
        "X_train = scaler.fit_transform(X_train)\n",
        "X_test = scaler.transform(X_test)"
      ],
      "metadata": {
        "id": "CB3E0EXKLs1J"
      },
      "execution_count": 77,
      "outputs": []
    },
    {
      "cell_type": "code",
      "source": [
        "# Decision tree for feature importance\n",
        "from sklearn.datasets import make_classification\n",
        "from sklearn.tree import DecisionTreeClassifier\n",
        "\n",
        "# Define the model\n",
        "model = DecisionTreeClassifier()\n",
        "# Fit the model\n",
        "model.fit(X_train, y_train)\n",
        "# Get importance\n",
        "importance = model.feature_importances_\n",
        "# Summarize feature importance\n",
        "for count, value in enumerate(importance):\n",
        "  print('Feature: ' + X.columns[count] + ', Score: %.5f' % value)\n",
        "# Plot feature importance\n",
        "plt.bar([x for x in range(len(importance))], importance)\n",
        "title = 'Decision Tree Method for Feature Importance'\n",
        "plt.title(title)\n",
        "plt.xlabel('Feature')\n",
        "plt.ylabel('Feature Importance')\n",
        "plt.show()"
      ],
      "metadata": {
        "colab": {
          "base_uri": "https://localhost:8080/",
          "height": 758
        },
        "id": "GPQb_BLyQfHS",
        "outputId": "1e52a914-e69b-45c7-b5db-146a1b0ca4e6"
      },
      "execution_count": 78,
      "outputs": [
        {
          "output_type": "stream",
          "name": "stdout",
          "text": [
            "Feature: gender, Score: 0.01477\n",
            "Feature: age, Score: 0.42271\n",
            "Feature: hypertension, Score: 0.01771\n",
            "Feature: heart_disease, Score: 0.00790\n",
            "Feature: ever_married, Score: 0.00433\n",
            "Feature: Residence_type, Score: 0.01072\n",
            "Feature: avg_glucose_level, Score: 0.20522\n",
            "Feature: bmi, Score: 0.20933\n",
            "Feature: work_type_Private, Score: 0.02359\n",
            "Feature: work_type_Selfemployed, Score: 0.01168\n",
            "Feature: work_type_Govtjob, Score: 0.00987\n",
            "Feature: work_type_Never, Score: 0.00000\n",
            "Feature: smoking_status_Former, Score: 0.00360\n",
            "Feature: smoking_status_Never, Score: 0.02961\n",
            "Feature: smoking_status_Smokes, Score: 0.01466\n",
            "Feature: smoking_status_Unknown, Score: 0.01430\n"
          ]
        },
        {
          "output_type": "display_data",
          "data": {
            "text/plain": [
              "<Figure size 640x480 with 1 Axes>"
            ],
            "image/png": "[encoded data removed]"
          },
          "metadata": {}
        }
      ]
    },
    {
      "cell_type": "code",
      "source": [
        "## CONSTANTS\n",
        "# Test size used\n",
        "size = 0.2\n",
        "# Distance metric used\n",
        "met = 'manhattan'\n",
        "##\n",
        "\n",
        "# Check error rate for k = 1 to 40\n",
        "error_rate = []\n",
        "\n",
        "for k in range(1, 40):\n",
        "  knn = KNeighborsClassifier(n_neighbors = k, metric = met)\n",
        "  knn.fit(X_train, y_train)\n",
        "  y_pred = knn.predict(X_test)\n",
        "  error_rate.append(1 - accuracy_score(y_test, y_pred))\n",
        "\n",
        "# Plot line graph of error rate\n",
        "sns.lineplot(error_rate, marker = 'o')\n",
        "plt.grid(True)\n",
        "plt.xlabel('k')\n",
        "plt.ylabel('Error Rate')\n",
        "plt.title('Error Rate vs. k Value\\ntest_size = ' + str(size) + '; metric = ' + met)\n",
        "plt.show()"
      ],
      "metadata": {
        "colab": {
          "base_uri": "https://localhost:8080/",
          "height": 493
        },
        "id": "i-tjzBWOUePL",
        "outputId": "32397411-f599-497e-d417-8b5da44d73c3"
      },
      "execution_count": 99,
      "outputs": [
        {
          "output_type": "display_data",
          "data": {
            "text/plain": [
              "<Figure size 640x480 with 1 Axes>"
            ],
            "image/png": "[encoded data removed]"
          },
          "metadata": {}
        }
      ]
    },
    {
      "cell_type": "code",
      "source": [
        "# Import necessary libraries\n",
        "from sklearn.model_selection import train_test_split\n",
        "from sklearn.preprocessing import StandardScaler\n",
        "from sklearn.neighbors import KNeighborsClassifier\n",
        "from sklearn.metrics import classification_report, confusion_matrix\n",
        "\n",
        "# Scale features\n",
        "scaler = StandardScaler()\n",
        "X_train = scaler.fit_transform(X_train)\n",
        "X_test = scaler.transform(X_test)\n",
        "\n",
        "# K value used\n",
        "k = 2\n",
        "\n",
        "# Initialize K-NN classifier and fit the model\n",
        "knn = KNeighborsClassifier(n_neighbors = k, metric = met)\n",
        "knn.fit(X_train, y_train)\n",
        "\n",
        "# Predict using test data\n",
        "y_pred = knn.predict(X_test)\n",
        "\n",
        "# Evaluate the model\n",
        "print(confusion_matrix(y_test, y_pred))\n",
        "print(classification_report(y_test, y_pred))\n",
        "\n",
        "# Visualize K-NN results using confusion matrix heatmap\n",
        "import seaborn as sns\n",
        "import matplotlib.pyplot as plt\n",
        "\n",
        "# Get unique classes\n",
        "classes = data['stroke'].unique()\n",
        "\n",
        "# Plotting the confusion matrix\n",
        "sns.heatmap(confusion_matrix(y_test, y_pred, labels = classes), annot = True,\n",
        "            xticklabels = classes, yticklabels = classes, cmap = 'Blues',\n",
        "            fmt = 'g')\n",
        "\n",
        "plt.xlabel('Predicted')\n",
        "plt.ylabel('Actual')\n",
        "title = 'Confusion Matrix\\nk = ' + str(k) + '; metric = ' + met\n",
        "plt.title(title)\n",
        "\n",
        "plt.show()"
      ],
      "metadata": {
        "colab": {
          "base_uri": "https://localhost:8080/",
          "height": 689
        },
        "id": "sKiEwjkQVct6",
        "outputId": "f83591fd-1b1d-40a3-8951-22d650522142"
      },
      "execution_count": 100,
      "outputs": [
        {
          "output_type": "stream",
          "name": "stdout",
          "text": [
            "[[758  61]\n",
            " [  0 784]]\n",
            "              precision    recall  f1-score   support\n",
            "\n",
            "         0.0       1.00      0.93      0.96       819\n",
            "         1.0       0.93      1.00      0.96       784\n",
            "\n",
            "    accuracy                           0.96      1603\n",
            "   macro avg       0.96      0.96      0.96      1603\n",
            "weighted avg       0.96      0.96      0.96      1603\n",
            "\n"
          ]
        },
        {
          "output_type": "display_data",
          "data": {
            "text/plain": [
              "<Figure size 640x480 with 2 Axes>"
            ],
            "image/png": "[encoded data removed]"
          },
          "metadata": {}
        }
      ]
    },
    {
      "cell_type": "code",
      "source": [
        "# Permutation for feature importance with K-NN for classification\n",
        "from sklearn.datasets import make_classification\n",
        "from sklearn.neighbors import KNeighborsClassifier\n",
        "from sklearn.inspection import permutation_importance\n",
        "\n",
        "# Fit the model\n",
        "results = permutation_importance(knn, X_test, y_test, scoring = 'accuracy')\n",
        "# Get importance\n",
        "importance = results.importances_mean\n",
        "# Summarize feature importance\n",
        "for count,value in enumerate(importance):\n",
        "  print('Feature: ' + X.columns[count] + ', Score: %.5f' % value)\n",
        "# Plot feature importance\n",
        "plt.bar([x for x in range(len(importance))], importance)\n",
        "title = 'Permutation Method for K-NN Model\\nk = ' + str(k) + '; metric = ' + met\n",
        "plt.title(title)\n",
        "plt.xlabel('Feature')\n",
        "plt.ylabel('Feature Importance')\n",
        "plt.show()"
      ],
      "metadata": {
        "colab": {
          "base_uri": "https://localhost:8080/",
          "height": 779
        },
        "id": "qM0lCtZqOO3I",
        "outputId": "3a3e8101-02d4-458e-abe0-fef05a6e9b60"
      },
      "execution_count": 101,
      "outputs": [
        {
          "output_type": "stream",
          "name": "stdout",
          "text": [
            "Feature: gender, Score: 0.15958\n",
            "Feature: age, Score: 0.19276\n",
            "Feature: hypertension, Score: 0.12789\n",
            "Feature: heart_disease, Score: 0.08734\n",
            "Feature: ever_married, Score: 0.06463\n",
            "Feature: Residence_type, Score: 0.15671\n",
            "Feature: avg_glucose_level, Score: 0.19850\n",
            "Feature: bmi, Score: 0.16394\n",
            "Feature: work_type_Private, Score: -0.00037\n",
            "Feature: work_type_Selfemployed, Score: 0.00886\n",
            "Feature: work_type_Govtjob, Score: 0.02595\n",
            "Feature: work_type_Never, Score: 0.00025\n",
            "Feature: smoking_status_Former, Score: 0.00799\n",
            "Feature: smoking_status_Never, Score: 0.00187\n",
            "Feature: smoking_status_Smokes, Score: 0.02782\n",
            "Feature: smoking_status_Unknown, Score: 0.02258\n"
          ]
        },
        {
          "output_type": "display_data",
          "data": {
            "text/plain": [
              "<Figure size 640x480 with 1 Axes>"
            ],
            "image/png": "[encoded data removed]"
          },
          "metadata": {}
        }
      ]
    }
  ]
}